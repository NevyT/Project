{
 "cells": [
  {
   "cell_type": "markdown",
   "metadata": {},
   "source": [
    "Installing Library"
   ]
  },
  {
   "cell_type": "code",
   "execution_count": null,
   "metadata": {},
   "outputs": [],
   "source": [
    "!pip install nltk"
   ]
  },
  {
   "cell_type": "code",
   "execution_count": null,
   "metadata": {
    "scrolled": true
   },
   "outputs": [],
   "source": [
    "!pip install -U spacy\n",
    "!pip install wordcloud\n",
    "!pip install yellowbrick\n",
    "!pip install sklearn\n",
    "!pip install xgboost\n",
    "!pip install --upgrade click\n",
    "!python -m spacy download en_core_web_sm\n"
   ]
  },
  {
   "cell_type": "code",
   "execution_count": null,
   "metadata": {},
   "outputs": [],
   "source": [
    "nltk.download('omw-1.4')"
   ]
  },
  {
   "cell_type": "markdown",
   "metadata": {},
   "source": [
    "Import Library"
   ]
  },
  {
   "cell_type": "code",
   "execution_count": 1,
   "metadata": {},
   "outputs": [],
   "source": [
    "import pickle\n",
    "import statistics\n",
    "\n",
    "import pandas as pd\n",
    "\n",
    "import nltk\n",
    "import unidecode as unidecode\n",
    "from nltk import WordNetLemmatizer\n",
    "from nltk.corpus import stopwords\n",
    "\n",
    "import sklearn\n",
    "from sklearn.feature_extraction.text import CountVectorizer\n",
    "from sklearn.base import TransformerMixin\n",
    "from sklearn.base import BaseEstimator\n",
    "from sklearn.feature_extraction.text import TfidfVectorizer\n",
    "from sklearn.model_selection import train_test_split\n",
    "from sklearn.naive_bayes import MultinomialNB\n",
    "from sklearn.metrics import f1_score\n",
    "from sklearn.metrics import accuracy_score\n",
    "from sklearn import preprocessing\n",
    "from sklearn.metrics import classification_report\n",
    "from sklearn.pipeline import make_pipeline\n",
    "from sklearn import model_selection\n",
    "from sklearn.preprocessing import LabelEncoder\n",
    "\n",
    "import re\n",
    "import string\n",
    "\n",
    "import spacy\n",
    "from spacy import displacy\n",
    "\n",
    "from xgboost import XGBClassifier"
   ]
  },
  {
   "cell_type": "markdown",
   "metadata": {},
   "source": [
    "Preprocessing Text"
   ]
  },
  {
   "cell_type": "code",
   "execution_count": 2,
   "metadata": {},
   "outputs": [],
   "source": [
    "nlp = spacy.load(\"en_core_web_sm\")"
   ]
  },
  {
   "cell_type": "code",
   "execution_count": 3,
   "metadata": {},
   "outputs": [],
   "source": [
    "df = pd.read_csv('alldata_1_for_kaggle.csv', encoding=\"latin-1\")\n",
    "df = df.rename(columns={'Unnamed: 0': 'index', '0': 'Type', 'a': 'Description'})"
   ]
  },
  {
   "cell_type": "code",
   "execution_count": 4,
   "metadata": {},
   "outputs": [],
   "source": [
    "sw = stopwords.words('english')"
   ]
  },
  {
   "cell_type": "code",
   "execution_count": 5,
   "metadata": {},
   "outputs": [],
   "source": [
    "def clean_text(text):\n",
    "    text = text.lower()\n",
    "    # remove\n",
    "    text = re.sub('\\[.*?\\]', '', text)\n",
    "    # remove links\n",
    "    text = re.sub('https?://\\S+|www\\.\\S+', '', text)\n",
    "    # remove tags\n",
    "    text = re.sub('<.*?>+', '', text)\n",
    "    # remove punctuation\n",
    "    text = re.sub('[%s]' % re.escape(string.punctuation), '', text)\n",
    "    # remove breaklines\n",
    "    text = re.sub('\\n', '', text)\n",
    "    # remove numbers\n",
    "    text = re.sub('\\w*\\d\\w*', '', text)\n",
    "\n",
    "    # Changing Text that's not in ascii into ascii (Ex: kožušček -> kozuscek; 30 \\U0001d5c4\\U0001d5c6/\\U0001d5c1 -> 30 km/h)\n",
    "    text = unidecode.unidecode(text)\n",
    "\n",
    "    # transform text into token\n",
    "    text_token = nltk.word_tokenize(text)\n",
    "\n",
    "    # remove stopwords\n",
    "    words = [w for w in text_token if w not in sw]\n",
    "\n",
    "    return ' '.join(words)\n",
    "\n",
    "df['Description'] = df['Description'].apply(clean_text)"
   ]
  },
  {
   "cell_type": "markdown",
   "metadata": {},
   "source": [
    "Lemmatizer"
   ]
  },
  {
   "cell_type": "code",
   "execution_count": 8,
   "metadata": {},
   "outputs": [],
   "source": [
    "lemmatizer = WordNetLemmatizer()\n",
    "\n",
    "def lemmatize_sentence(text):\n",
    "    # transform text into token\n",
    "    text_token = nltk.word_tokenize(text)\n",
    "    lemmatized_sentence = []\n",
    "    for word in text_token:\n",
    "        lemmatized_sentence.append(lemmatizer.lemmatize(word))\n",
    "    return \" \".join(lemmatized_sentence)\n",
    "\n",
    "df['Description'] = df['Description'].apply(lemmatize_sentence)"
   ]
  },
  {
   "cell_type": "markdown",
   "metadata": {},
   "source": [
    "Word Embedding"
   ]
  },
  {
   "cell_type": "code",
   "execution_count": 10,
   "metadata": {},
   "outputs": [],
   "source": [
    "vector = TfidfVectorizer(max_df=0.8,min_df=0.2)\n",
    "docs = vector.fit_transform(df['Description'].tolist())\n",
    "#features = vector.get_feature_names()"
   ]
  },
  {
   "cell_type": "markdown",
   "metadata": {},
   "source": [
    "Declaring XGBoost Model and SKCV"
   ]
  },
  {
   "cell_type": "code",
   "execution_count": 11,
   "metadata": {},
   "outputs": [],
   "source": [
    "le = LabelEncoder()\n",
    "df['Type'] = le.fit_transform(df['Type'])\n",
    "\n",
    "mxgb = XGBClassifier(objective='multi:softmax',num_class=3)\n",
    "classification_report_XGBoost = []\n",
    "\n",
    "SKCV = model_selection.StratifiedKFold(n_splits=10)"
   ]
  },
  {
   "cell_type": "markdown",
   "metadata": {},
   "source": [
    "Training Model"
   ]
  },
  {
   "cell_type": "code",
   "execution_count": 12,
   "metadata": {},
   "outputs": [],
   "source": [
    "for train_index,test_index in SKCV.split(docs,df['Type']):\n",
    "    X_train, X_test = docs[train_index], docs[test_index]\n",
    "    y_train,y_test = df['Type'][train_index], df['Type'][test_index]\n",
    "\n",
    "    mxgb.fit(X_train,y_train)\n",
    "\n",
    "    prediction = mxgb.predict(X_test)\n",
    "\n",
    "    matrix = classification_report(y_test,prediction,output_dict=True)\n",
    "    # print(matrix)\n",
    "    classification_report_XGBoost.append(matrix)"
   ]
  },
  {
   "cell_type": "code",
   "execution_count": 13,
   "metadata": {},
   "outputs": [],
   "source": [
    "import numpy as np\n",
    "import matplotlib.pyplot as plt\n",
    "\n",
    "# Extract precision, recall, and F1-score values for each class from each fold's classification report\n",
    "precision = []\n",
    "recall = []\n",
    "f1_score = []\n",
    "for report in classification_report_XGBoost:\n",
    "    precision.append(report['macro avg']['precision'])\n",
    "    recall.append(report['macro avg']['recall'])\n",
    "    f1_score.append(report['macro avg']['f1-score'])"
   ]
  },
  {
   "cell_type": "code",
   "execution_count": 14,
   "metadata": {},
   "outputs": [
    {
     "data": {
      "image/png": "[encoded data removed]",
      "text/plain": [
       "<Figure size 432x288 with 1 Axes>"
      ]
     },
     "metadata": {
      "needs_background": "light"
     },
     "output_type": "display_data"
    }
   ],
   "source": [
    "\n",
    "# Plot precision, recall, and F1-score for each fold\n",
    "x = np.arange(len(classification_report_XGBoost))\n",
    "width = 0.2\n",
    "fig, ax = plt.subplots()\n",
    "rects1 = ax.bar(x - width, precision, width, label='Precision')\n",
    "rects2 = ax.bar(x, recall, width, label='Recall')\n",
    "rects3 = ax.bar(x + width, f1_score, width, label='F1-score')\n",
    "\n",
    "# Add some text for labels, title and custom x-axis tick labels, etc.\n",
    "ax.set_ylabel('Score')\n",
    "ax.set_title('Precision, Recall, and F1-score by Fold')\n",
    "ax.set_xticks(x)\n",
    "ax.legend()\n",
    "\n",
    "# Add values above each bar\n",
    "def autolabel(rects):\n",
    "    for rect in rects:\n",
    "        height = rect.get_height()\n",
    "        ax.annotate(f'{height:.2f}',\n",
    "                    xy=(rect.get_x() + rect.get_width() / 2, height),\n",
    "                    xytext=(0, 3),  # 3 points vertical offset\n",
    "                    textcoords=\"offset points\",\n",
    "                    ha='center', va='bottom')\n",
    "\n",
    "autolabel(rects1)\n",
    "autolabel(rects2)\n",
    "autolabel(rects3)\n",
    "\n",
    "fig.tight_layout()\n",
    "plt.show()"
   ]
  },
  {
   "cell_type": "code",
   "execution_count": 15,
   "metadata": {},
   "outputs": [
    {
     "name": "stdout",
     "output_type": "stream",
     "text": [
      "{'0': {'precision': 0.9961240310077519, 'recall': 0.9961240310077519, 'f1-score': 0.9961240310077519, 'support': 258}, '1': {'precision': 1.0, 'recall': 1.0, 'f1-score': 1.0, 'support': 218}, '2': {'precision': 0.99644128113879, 'recall': 0.99644128113879, 'f1-score': 0.99644128113879, 'support': 281}, 'accuracy': 0.9973579920739762, 'macro avg': {'precision': 0.997521770715514, 'recall': 0.997521770715514, 'f1-score': 0.997521770715514, 'support': 757}, 'weighted avg': {'precision': 0.9973579920739762, 'recall': 0.9973579920739762, 'f1-score': 0.9973579920739762, 'support': 757}}\n",
      "{'0': {'precision': 0.9923076923076923, 'recall': 1.0, 'f1-score': 0.9961389961389961, 'support': 258}, '1': {'precision': 1.0, 'recall': 1.0, 'f1-score': 1.0, 'support': 218}, '2': {'precision': 1.0, 'recall': 0.9928825622775801, 'f1-score': 0.9964285714285714, 'support': 281}, 'accuracy': 0.9973579920739762, 'macro avg': {'precision': 0.9974358974358974, 'recall': 0.9976275207591933, 'f1-score': 0.9975225225225225, 'support': 757}, 'weighted avg': {'precision': 0.9973783152118687, 'recall': 0.9973579920739762, 'f1-score': 0.9973583746040814, 'support': 757}}\n",
      "{'0': {'precision': 0.9961240310077519, 'recall': 0.9961240310077519, 'f1-score': 0.9961240310077519, 'support': 258}, '1': {'precision': 1.0, 'recall': 1.0, 'f1-score': 1.0, 'support': 218}, '2': {'precision': 0.99644128113879, 'recall': 0.99644128113879, 'f1-score': 0.99644128113879, 'support': 281}, 'accuracy': 0.9973579920739762, 'macro avg': {'precision': 0.997521770715514, 'recall': 0.997521770715514, 'f1-score': 0.997521770715514, 'support': 757}, 'weighted avg': {'precision': 0.9973579920739762, 'recall': 0.9973579920739762, 'f1-score': 0.9973579920739762, 'support': 757}}\n",
      "{'0': {'precision': 0.9923076923076923, 'recall': 1.0, 'f1-score': 0.9961389961389961, 'support': 258}, '1': {'precision': 1.0, 'recall': 1.0, 'f1-score': 1.0, 'support': 218}, '2': {'precision': 1.0, 'recall': 0.9928825622775801, 'f1-score': 0.9964285714285714, 'support': 281}, 'accuracy': 0.9973579920739762, 'macro avg': {'precision': 0.9974358974358974, 'recall': 0.9976275207591933, 'f1-score': 0.9975225225225225, 'support': 757}, 'weighted avg': {'precision': 0.9973783152118687, 'recall': 0.9973579920739762, 'f1-score': 0.9973583746040814, 'support': 757}}\n",
      "{'0': {'precision': 0.9961240310077519, 'recall': 0.9961240310077519, 'f1-score': 0.9961240310077519, 'support': 258}, '1': {'precision': 1.0, 'recall': 1.0, 'f1-score': 1.0, 'support': 218}, '2': {'precision': 0.99644128113879, 'recall': 0.99644128113879, 'f1-score': 0.99644128113879, 'support': 281}, 'accuracy': 0.9973579920739762, 'macro avg': {'precision': 0.997521770715514, 'recall': 0.997521770715514, 'f1-score': 0.997521770715514, 'support': 757}, 'weighted avg': {'precision': 0.9973579920739762, 'recall': 0.9973579920739762, 'f1-score': 0.9973579920739762, 'support': 757}}\n",
      "{'0': {'precision': 0.9923076923076923, 'recall': 1.0, 'f1-score': 0.9961389961389961, 'support': 258}, '1': {'precision': 1.0, 'recall': 1.0, 'f1-score': 1.0, 'support': 218}, '2': {'precision': 1.0, 'recall': 0.9928825622775801, 'f1-score': 0.9964285714285714, 'support': 281}, 'accuracy': 0.9973579920739762, 'macro avg': {'precision': 0.9974358974358974, 'recall': 0.9976275207591933, 'f1-score': 0.9975225225225225, 'support': 757}, 'weighted avg': {'precision': 0.9973783152118687, 'recall': 0.9973579920739762, 'f1-score': 0.9973583746040814, 'support': 757}}\n",
      "{'0': {'precision': 0.9961240310077519, 'recall': 0.9961240310077519, 'f1-score': 0.9961240310077519, 'support': 258}, '1': {'precision': 1.0, 'recall': 1.0, 'f1-score': 1.0, 'support': 218}, '2': {'precision': 0.99644128113879, 'recall': 0.99644128113879, 'f1-score': 0.99644128113879, 'support': 281}, 'accuracy': 0.9973579920739762, 'macro avg': {'precision': 0.997521770715514, 'recall': 0.997521770715514, 'f1-score': 0.997521770715514, 'support': 757}, 'weighted avg': {'precision': 0.9973579920739762, 'recall': 0.9973579920739762, 'f1-score': 0.9973579920739762, 'support': 757}}\n",
      "{'0': {'precision': 0.9923076923076923, 'recall': 1.0, 'f1-score': 0.9961389961389961, 'support': 258}, '1': {'precision': 1.0, 'recall': 1.0, 'f1-score': 1.0, 'support': 218}, '2': {'precision': 1.0, 'recall': 0.9928825622775801, 'f1-score': 0.9964285714285714, 'support': 281}, 'accuracy': 0.9973579920739762, 'macro avg': {'precision': 0.9974358974358974, 'recall': 0.9976275207591933, 'f1-score': 0.9975225225225225, 'support': 757}, 'weighted avg': {'precision': 0.9973783152118687, 'recall': 0.9973579920739762, 'f1-score': 0.9973583746040814, 'support': 757}}\n",
      "{'0': {'precision': 0.9961240310077519, 'recall': 0.9961240310077519, 'f1-score': 0.9961240310077519, 'support': 258}, '1': {'precision': 1.0, 'recall': 1.0, 'f1-score': 1.0, 'support': 218}, '2': {'precision': 0.99644128113879, 'recall': 0.99644128113879, 'f1-score': 0.99644128113879, 'support': 281}, 'accuracy': 0.9973579920739762, 'macro avg': {'precision': 0.997521770715514, 'recall': 0.997521770715514, 'f1-score': 0.997521770715514, 'support': 757}, 'weighted avg': {'precision': 0.9973579920739762, 'recall': 0.9973579920739762, 'f1-score': 0.9973579920739762, 'support': 757}}\n",
      "{'0': {'precision': 0.9923076923076923, 'recall': 1.0, 'f1-score': 0.9961389961389961, 'support': 258}, '1': {'precision': 1.0, 'recall': 1.0, 'f1-score': 1.0, 'support': 218}, '2': {'precision': 1.0, 'recall': 0.9928825622775801, 'f1-score': 0.9964285714285714, 'support': 281}, 'accuracy': 0.9973579920739762, 'macro avg': {'precision': 0.9974358974358974, 'recall': 0.9976275207591933, 'f1-score': 0.9975225225225225, 'support': 757}, 'weighted avg': {'precision': 0.9973783152118687, 'recall': 0.9973579920739762, 'f1-score': 0.9973583746040814, 'support': 757}}\n"
     ]
    }
   ],
   "source": [
    "for report in classification_report_XGBoost:\n",
    "    print(report)"
   ]
  },
  {
   "cell_type": "code",
   "execution_count": null,
   "metadata": {},
   "outputs": [],
   "source": [
    "with open('modelXGBoost','wb') as f:\n",
    "    pickle.dump(mxgb,f)"
   ]
  },
  {
   "cell_type": "code",
   "execution_count": null,
   "metadata": {},
   "outputs": [],
   "source": []
  }
 ],
 "metadata": {
  "kernelspec": {
   "display_name": "Python 3",
   "language": "python",
   "name": "python3"
  },
  "language_info": {
   "codemirror_mode": {
    "name": "ipython",
    "version": 3
   },
   "file_extension": ".py",
   "mimetype": "text/x-python",
   "name": "python",
   "nbconvert_exporter": "python",
   "pygments_lexer": "ipython3",
   "version": "3.8.5"
  }
 },
 "nbformat": 4,
 "nbformat_minor": 4
}
